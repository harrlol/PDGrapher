{
 "cells": [
  {
   "cell_type": "markdown",
   "metadata": {},
   "source": [
    "### Test distribution similarities between real and simulated data"
   ]
  },
  {
   "cell_type": "code",
   "execution_count": 1,
   "metadata": {},
   "outputs": [
    {
     "name": "stdout",
     "output_type": "stream",
     "text": [
      "Time loading data: 0.331 secs\n",
      "Time creating PPI network: 0.419 secs\n"
     ]
    }
   ],
   "source": [
    "\n",
    "import pickle\n",
    "import torch\n",
    "\n",
    "from create_synthetic_with_confounders import create_dag_from_ppi, topological_sort, reindex_dag_nodes, logistic_function, generate_gene_expression, get_parents_for_each_node, simulate_observational_data, intervene_on_gene\n",
    "import networkx as nx\n",
    "import numpy as np\n",
    "import pandas as pd\n",
    "from time import time\n",
    "\n",
    "tic  = time()\n",
    "edge_index = torch.load('../../processed/torch_data/chemical/real_lognorm/edge_index_A549.pt')\n",
    "num_nodes = len(edge_index.unique())\n",
    "edge_index = edge_index.transpose(1,0).tolist()\n",
    "toc = time()\n",
    "print('Time loading data: {:.3f} secs'.format(toc - tic))\n",
    "\n",
    "tic = time()\n",
    "ppi_network = nx.Graph()\n",
    "ppi_network.add_edges_from(edge_index)\n",
    "toc = time()\n",
    "print('Time creating PPI network: {:.3f} secs'.format(toc - tic))\n",
    "\n",
    "\n",
    "tic = time()\n",
    "# Convert the PPI network to a DAG\n",
    "dag = create_dag_from_ppi(ppi_network)\n",
    "sorted_nodes = topological_sort(dag.edges(), num_nodes)\n",
    "toc = time()\n",
    "print('Time converting PPI to DAG: {:.3f} secs'.format(toc - tic))\n",
    "\n",
    "\n",
    "tic = time()\n",
    "#Reindex so that it's consistent with hierarchical ordering\n",
    "dag = reindex_dag_nodes(dag, sorted_nodes)\n",
    "parents_dict = get_parents_for_each_node(dag)\n",
    "toc = time()\n",
    "print('Time relabeling nodes: {:.3f} secs'.format(toc - tic))\n",
    "\n",
    "\n",
    "\n",
    "tic = time()\n",
    "#Simulate observational data\n",
    "observational_data = simulate_observational_data(parents_dict, num_samples = 100)\n",
    "toc = time()\n",
    "print('Time simulating observational data: {:.3f} secs'.format(toc - tic))\n",
    "\n"
   ]
  },
  {
   "cell_type": "code",
   "execution_count": null,
   "metadata": {},
   "outputs": [],
   "source": [
    "\n",
    "\n",
    "#Real observational data (let's load it and compare distributions - if not the same as real data, then I need to tweak the causal mechanisms)\n",
    "real_observational_data =  torch.load('../../processed/torch_data/chemical/real_lognorm/data_forward_A549.pt')\n",
    "real_observational_data = np.stack([e.diseased for e in real_observational_data])\n",
    "\n",
    "    #visual inspection using histograms\n",
    "\n",
    "\n",
    "\n",
    "\n",
    "\n",
    "#Simulate interventional data\n",
    "\n",
    "\n",
    "#Real interventional data (let's load it and compare distributions - if not the same as real data, then I need to tweak the causal mechanisms)\n",
    "\n"
   ]
  },
  {
   "cell_type": "code",
   "execution_count": null,
   "metadata": {},
   "outputs": [],
   "source": [
    "import random\n",
    "print(f'Simulated observational data: {observational_data.shape}')\n",
    "print(f'Real observational data: {real_observational_data.shape}')\n",
    "\n",
    "print('Subsampling real data')\n",
    "real_observational_data = real_observational_data[np.random.randint(0, len(real_observational_data), 100)]\n",
    "print(f'Real observational data: {real_observational_data.shape}')"
   ]
  },
  {
   "cell_type": "markdown",
   "metadata": {},
   "source": []
  }
 ],
 "metadata": {
  "kernelspec": {
   "display_name": "myenv",
   "language": "python",
   "name": "myenv"
  },
  "language_info": {
   "codemirror_mode": {
    "name": "ipython",
    "version": 3
   },
   "file_extension": ".py",
   "mimetype": "text/x-python",
   "name": "python",
   "nbconvert_exporter": "python",
   "pygments_lexer": "ipython3",
   "version": "3.8.12"
  }
 },
 "nbformat": 4,
 "nbformat_minor": 2
}
